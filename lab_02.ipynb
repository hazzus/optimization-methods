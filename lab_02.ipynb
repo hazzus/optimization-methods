{
 "cells": [
  {
   "cell_type": "code",
   "execution_count": 1,
   "metadata": {},
   "outputs": [],
   "source": [
    "from sympy import *\n",
    "import numpy as np\n",
    "from IPython.display import display\n",
    "import sys\n",
    "# sys.path.insert(1, '../lab01')\n"
   ]
  },
  {
   "cell_type": "code",
   "execution_count": 2,
   "metadata": {},
   "outputs": [
    {
     "name": "stdout",
     "output_type": "stream",
     "text": [
      "eps = 1e-09\n"
     ]
    },
    {
     "data": {
      "text/plain": "[-3*exp(-(x1 - 2)**2/9 - (x2 - 3)**2/4) - 2*exp(-(x1 - 1)**2/4 - (x2 - 1)**2)]"
     },
     "execution_count": 2,
     "metadata": {},
     "output_type": "execute_result"
    }
   ],
   "source": [
    "x1 = Symbol('x1')\n",
    "x2 = Symbol('x2')\n",
    "# f = simplify(x1 ** 2 + x2 ** 2 + 6 * x1 - 10*x2)\n",
    "\n",
    "\n",
    "# f1 = simplify(x1**2 + x2**2 + 6 * x1 - 10 * x2 + x1**4)\n",
    "f1 = simplify(100 * (x2 - x1)**2 + (1 - x1)**2)\n",
    "f2 = simplify(100 * (x2 - x1 ** 2) ** 2 + (1 - x1) ** 2)\n",
    "f3 = -simplify(2 * exp(-(x1 - 1) ** 2 / 4 - (x2 - 1) ** 2 / 1) + 3 * exp(-(x1 - 2) ** 2 / 9 - (x2 - 3) ** 2 / 4))\n",
    "freeSyms = f1.free_symbols\n",
    "eps = 1e-9\n",
    "print('eps =', eps)\n",
    "funcs = [f3]\n",
    "funcs"
   ]
  },
  {
   "cell_type": "code",
   "execution_count": 3,
   "metadata": {},
   "outputs": [],
   "source": [
    "def hessian(func):\n",
    "    fs = func.free_symbols\n",
    "    return Matrix(derive_by_array(derive_by_array(func, fs), fs))\n",
    "\n",
    "def gradient(func):\n",
    "    return Matrix(derive_by_array(func, func.free_symbols))\n",
    "\n",
    "def substitute(u, x):\n",
    "    return Matrix(u.applyfunc(lambda k: k.evalf(subs=dict(zip(freeSyms, x)))))\n",
    "\n",
    "def positive_definitive(m):\n",
    "    eigenvalues = np.linalg.eigvals(m)\n",
    "    display(\"before\", eigenvalues)\n",
    "    if all(eigenvalues > 0):\n",
    "        return m\n",
    "    else:\n",
    "        min_eig = min(eigenvalues)\n",
    "        add = 2 * (-min_eig) * np.eye(m.shape[0])\n",
    "        display(\"after\", np.linalg.eigvals(m + add))\n",
    "        return m + add"
   ]
  },
  {
   "cell_type": "code",
   "execution_count": 4,
   "metadata": {
    "pycharm": {
     "name": "#%%\n"
    }
   },
   "outputs": [],
   "source": [
    "def newton(f, x_start, eps):\n",
    "    result = OptimizeResult(\"dichotomy\", w, 0, 0, 0, [])\n",
    "    h = hessian(f)\n",
    "    grad = gradient(f)\n",
    "    prevY = float('inf')\n",
    "    curX = x_start\n",
    "    curY = f.evalf(subs=dict(zip(freeSyms, curX)))\n",
    "\n",
    "\n",
    "    while abs(curY - prevY) > eps:\n",
    "        prevY = curY\n"
   ]
  },
  {
   "cell_type": "code",
   "execution_count": 5,
   "outputs": [
    {
     "data": {
      "text/plain": "'----------------------------------------------------------------------------------------------------'"
     },
     "metadata": {},
     "output_type": "display_data"
    },
    {
     "data": {
      "text/plain": "Matrix([\n[(3/2 - x2/2)*(3*x2/2 - 9/2)*exp(-(x1 - 2)**2/9 - (x2 - 3)**2/4) + (2 - 2*x2)*(4*x2 - 4)*exp(-(x1 - 1)**2/4 - (x2 - 1)**2) + 3*exp(-(x1 - 2)**2/9 - (x2 - 3)**2/4)/2 + 4*exp(-(x1 - 1)**2/4 - (x2 - 1)**2),                                                                                   (3/2 - x2/2)*(2*x1/3 - 4/3)*exp(-(x1 - 2)**2/9 - (x2 - 3)**2/4) + (2 - 2*x2)*(x1 - 1)*exp(-(x1 - 1)**2/4 - (x2 - 1)**2)],\n[                                                                            (4/9 - 2*x1/9)*(3*x2/2 - 9/2)*exp(-(x1 - 2)**2/9 - (x2 - 3)**2/4) + (1/2 - x1/2)*(4*x2 - 4)*exp(-(x1 - 1)**2/4 - (x2 - 1)**2), (4/9 - 2*x1/9)*(2*x1/3 - 4/3)*exp(-(x1 - 2)**2/9 - (x2 - 3)**2/4) + (1/2 - x1/2)*(x1 - 1)*exp(-(x1 - 1)**2/4 - (x2 - 1)**2) + 2*exp(-(x1 - 2)**2/9 - (x2 - 3)**2/4)/3 + exp(-(x1 - 1)**2/4 - (x2 - 1)**2)]])",
      "text/latex": "$\\displaystyle \\left[\\begin{matrix}\\left(\\frac{3}{2} - \\frac{x_{2}}{2}\\right) \\left(\\frac{3 x_{2}}{2} - \\frac{9}{2}\\right) e^{- \\frac{\\left(x_{1} - 2\\right)^{2}}{9} - \\frac{\\left(x_{2} - 3\\right)^{2}}{4}} + \\left(2 - 2 x_{2}\\right) \\left(4 x_{2} - 4\\right) e^{- \\frac{\\left(x_{1} - 1\\right)^{2}}{4} - \\left(x_{2} - 1\\right)^{2}} + \\frac{3 e^{- \\frac{\\left(x_{1} - 2\\right)^{2}}{9} - \\frac{\\left(x_{2} - 3\\right)^{2}}{4}}}{2} + 4 e^{- \\frac{\\left(x_{1} - 1\\right)^{2}}{4} - \\left(x_{2} - 1\\right)^{2}} & \\left(\\frac{3}{2} - \\frac{x_{2}}{2}\\right) \\left(\\frac{2 x_{1}}{3} - \\frac{4}{3}\\right) e^{- \\frac{\\left(x_{1} - 2\\right)^{2}}{9} - \\frac{\\left(x_{2} - 3\\right)^{2}}{4}} + \\left(2 - 2 x_{2}\\right) \\left(x_{1} - 1\\right) e^{- \\frac{\\left(x_{1} - 1\\right)^{2}}{4} - \\left(x_{2} - 1\\right)^{2}}\\\\\\left(\\frac{4}{9} - \\frac{2 x_{1}}{9}\\right) \\left(\\frac{3 x_{2}}{2} - \\frac{9}{2}\\right) e^{- \\frac{\\left(x_{1} - 2\\right)^{2}}{9} - \\frac{\\left(x_{2} - 3\\right)^{2}}{4}} + \\left(\\frac{1}{2} - \\frac{x_{1}}{2}\\right) \\left(4 x_{2} - 4\\right) e^{- \\frac{\\left(x_{1} - 1\\right)^{2}}{4} - \\left(x_{2} - 1\\right)^{2}} & \\left(\\frac{4}{9} - \\frac{2 x_{1}}{9}\\right) \\left(\\frac{2 x_{1}}{3} - \\frac{4}{3}\\right) e^{- \\frac{\\left(x_{1} - 2\\right)^{2}}{9} - \\frac{\\left(x_{2} - 3\\right)^{2}}{4}} + \\left(\\frac{1}{2} - \\frac{x_{1}}{2}\\right) \\left(x_{1} - 1\\right) e^{- \\frac{\\left(x_{1} - 1\\right)^{2}}{4} - \\left(x_{2} - 1\\right)^{2}} + \\frac{2 e^{- \\frac{\\left(x_{1} - 2\\right)^{2}}{9} - \\frac{\\left(x_{2} - 3\\right)^{2}}{4}}}{3} + e^{- \\frac{\\left(x_{1} - 1\\right)^{2}}{4} - \\left(x_{2} - 1\\right)^{2}}\\end{matrix}\\right]$"
     },
     "metadata": {},
     "output_type": "display_data"
    },
    {
     "data": {
      "text/plain": "-3*(3/2 - x2/2)*exp(-(x1 - 2)**2/9 - (x2 - 3)**2/4) - 2*(2 - 2*x2)*exp(-(x1 - 1)**2/4 - (x2 - 1)**2)",
      "text/latex": "$\\displaystyle - 3 \\left(\\frac{3}{2} - \\frac{x_{2}}{2}\\right) e^{- \\frac{\\left(x_{1} - 2\\right)^{2}}{9} - \\frac{\\left(x_{2} - 3\\right)^{2}}{4}} - 2 \\left(2 - 2 x_{2}\\right) e^{- \\frac{\\left(x_{1} - 1\\right)^{2}}{4} - \\left(x_{2} - 1\\right)^{2}}$"
     },
     "metadata": {},
     "output_type": "display_data"
    },
    {
     "data": {
      "text/plain": "-3*(4/9 - 2*x1/9)*exp(-(x1 - 2)**2/9 - (x2 - 3)**2/4) - 2*(1/2 - x1/2)*exp(-(x1 - 1)**2/4 - (x2 - 1)**2)",
      "text/latex": "$\\displaystyle - 3 \\left(\\frac{4}{9} - \\frac{2 x_{1}}{9}\\right) e^{- \\frac{\\left(x_{1} - 2\\right)^{2}}{9} - \\frac{\\left(x_{2} - 3\\right)^{2}}{4}} - 2 \\left(\\frac{1}{2} - \\frac{x_{1}}{2}\\right) e^{- \\frac{\\left(x_{1} - 1\\right)^{2}}{4} - \\left(x_{2} - 1\\right)^{2}}$"
     },
     "metadata": {},
     "output_type": "display_data"
    },
    {
     "data": {
      "text/plain": "('curY= ', -1.01870499264199)"
     },
     "metadata": {},
     "output_type": "display_data"
    },
    {
     "data": {
      "text/plain": "'before'"
     },
     "metadata": {},
     "output_type": "display_data"
    },
    {
     "data": {
      "text/plain": "array([-1.97039977,  0.42051002])"
     },
     "metadata": {},
     "output_type": "display_data"
    },
    {
     "data": {
      "text/plain": "'after'"
     },
     "metadata": {},
     "output_type": "display_data"
    },
    {
     "data": {
      "text/plain": "array([1.97039977, 4.36130956])"
     },
     "metadata": {},
     "output_type": "display_data"
    },
    {
     "data": {
      "text/plain": "Matrix([\n[ -0.962077244647985],\n[-0.0352524727910908]])",
      "text/latex": "$\\displaystyle \\left[\\begin{matrix}-0.962077244647985\\\\-0.0352524727910908\\end{matrix}\\right]$"
     },
     "metadata": {},
     "output_type": "display_data"
    },
    {
     "data": {
      "text/plain": "('curY= ', -2.95433509091525)"
     },
     "metadata": {},
     "output_type": "display_data"
    },
    {
     "data": {
      "text/plain": "('curX= ',\n Matrix([\n [0.962077244647985],\n [ 1.03525247279109]]))"
     },
     "metadata": {},
     "output_type": "display_data"
    },
    {
     "data": {
      "text/plain": "'before'"
     },
     "metadata": {},
     "output_type": "display_data"
    },
    {
     "data": {
      "text/plain": "array([3.48435294, 1.14804952])"
     },
     "metadata": {},
     "output_type": "display_data"
    },
    {
     "data": {
      "text/plain": "Matrix([\n[-0.337541354946254],\n[-0.205650773636935]])",
      "text/latex": "$\\displaystyle \\left[\\begin{matrix}-0.337541354946254\\\\-0.205650773636935\\end{matrix}\\right]$"
     },
     "metadata": {},
     "output_type": "display_data"
    },
    {
     "data": {
      "text/plain": "('curY= ', -3.16777676185211)"
     },
     "metadata": {},
     "output_type": "display_data"
    },
    {
     "data": {
      "text/plain": "('curX= ',\n Matrix([\n [1.29961859959424],\n [1.24090324642803]]))"
     },
     "metadata": {},
     "output_type": "display_data"
    },
    {
     "data": {
      "text/plain": "'before'"
     },
     "metadata": {},
     "output_type": "display_data"
    },
    {
     "data": {
      "text/plain": "array([2.71973049, 1.07225107])"
     },
     "metadata": {},
     "output_type": "display_data"
    },
    {
     "data": {
      "text/plain": "Matrix([\n[-0.0333074898973387],\n[-0.0212452522915973]])",
      "text/latex": "$\\displaystyle \\left[\\begin{matrix}-0.0333074898973387\\\\-0.0212452522915973\\end{matrix}\\right]$"
     },
     "metadata": {},
     "output_type": "display_data"
    },
    {
     "data": {
      "text/plain": "('curY= ', -3.16931457001761)"
     },
     "metadata": {},
     "output_type": "display_data"
    },
    {
     "data": {
      "text/plain": "('curX= ',\n Matrix([\n [1.33292608949158],\n [1.26214849871962]]))"
     },
     "metadata": {},
     "output_type": "display_data"
    },
    {
     "data": {
      "text/plain": "'before'"
     },
     "metadata": {},
     "output_type": "display_data"
    },
    {
     "data": {
      "text/plain": "array([2.54879526, 1.04076418])"
     },
     "metadata": {},
     "output_type": "display_data"
    },
    {
     "data": {
      "text/plain": "Matrix([\n[ -0.00146691800407961],\n[-0.000884770879667762]])",
      "text/latex": "$\\displaystyle \\left[\\begin{matrix}-0.00146691800407961\\\\-0.000884770879667762\\end{matrix}\\right]$"
     },
     "metadata": {},
     "output_type": "display_data"
    },
    {
     "data": {
      "text/plain": "('curY= ', -3.16931721621443)"
     },
     "metadata": {},
     "output_type": "display_data"
    },
    {
     "data": {
      "text/plain": "('curX= ',\n Matrix([\n [1.33439300749566],\n [1.26303326959929]]))"
     },
     "metadata": {},
     "output_type": "display_data"
    },
    {
     "data": {
      "text/plain": "'before'"
     },
     "metadata": {},
     "output_type": "display_data"
    },
    {
     "data": {
      "text/plain": "array([2.54111676, 1.03924527])"
     },
     "metadata": {},
     "output_type": "display_data"
    },
    {
     "data": {
      "text/plain": "Matrix([\n[-2.95502043479168e-6],\n[-1.75529061796631e-6]])",
      "text/latex": "$\\displaystyle \\left[\\begin{matrix}-2.95502043479168 \\cdot 10^{-6}\\\\-1.75529061796631 \\cdot 10^{-6}\\end{matrix}\\right]$"
     },
     "metadata": {},
     "output_type": "display_data"
    },
    {
     "data": {
      "text/plain": "('curY= ', -3.16931721622508)"
     },
     "metadata": {},
     "output_type": "display_data"
    },
    {
     "data": {
      "text/plain": "('curX= ',\n Matrix([\n [1.33439596251609],\n [1.26303502488991]]))"
     },
     "metadata": {},
     "output_type": "display_data"
    },
    {
     "data": {
      "text/plain": "'before'"
     },
     "metadata": {},
     "output_type": "display_data"
    },
    {
     "data": {
      "text/plain": "array([2.54110129, 1.03924221])"
     },
     "metadata": {},
     "output_type": "display_data"
    },
    {
     "data": {
      "text/plain": "Matrix([\n[-1.19857457292483e-11],\n[-7.09343694893505e-12]])",
      "text/latex": "$\\displaystyle \\left[\\begin{matrix}-1.19857457292483 \\cdot 10^{-11}\\\\-7.09343694893505 \\cdot 10^{-12}\\end{matrix}\\right]$"
     },
     "metadata": {},
     "output_type": "display_data"
    },
    {
     "data": {
      "text/plain": "('curY= ', -3.16931721622508)"
     },
     "metadata": {},
     "output_type": "display_data"
    },
    {
     "data": {
      "text/plain": "('curX= ',\n Matrix([\n [1.33439596252808],\n [  1.263035024897]]))"
     },
     "metadata": {},
     "output_type": "display_data"
    },
    {
     "data": {
      "text/plain": "'before'"
     },
     "metadata": {},
     "output_type": "display_data"
    },
    {
     "data": {
      "text/plain": "array([2.54110129, 1.03924221])"
     },
     "metadata": {},
     "output_type": "display_data"
    },
    {
     "data": {
      "text/plain": "Matrix([\n[0],\n[0]])",
      "text/latex": "$\\displaystyle \\left[\\begin{matrix}0\\\\0\\end{matrix}\\right]$"
     },
     "metadata": {},
     "output_type": "display_data"
    },
    {
     "data": {
      "text/plain": "('curY= ', -3.16931721622508)"
     },
     "metadata": {},
     "output_type": "display_data"
    },
    {
     "data": {
      "text/plain": "('curX= ',\n Matrix([\n [1.33439596252808],\n [  1.263035024897]]))"
     },
     "metadata": {},
     "output_type": "display_data"
    },
    {
     "data": {
      "text/plain": "'before'"
     },
     "metadata": {},
     "output_type": "display_data"
    },
    {
     "data": {
      "text/plain": "array([2.54110129, 1.03924221])"
     },
     "metadata": {},
     "output_type": "display_data"
    },
    {
     "data": {
      "text/plain": "Matrix([\n[0],\n[0]])",
      "text/latex": "$\\displaystyle \\left[\\begin{matrix}0\\\\0\\end{matrix}\\right]$"
     },
     "metadata": {},
     "output_type": "display_data"
    },
    {
     "data": {
      "text/plain": "('curY= ', -3.16931721622508)"
     },
     "metadata": {},
     "output_type": "display_data"
    },
    {
     "data": {
      "text/plain": "('curX= ',\n Matrix([\n [1.33439596252808],\n [  1.263035024897]]))"
     },
     "metadata": {},
     "output_type": "display_data"
    },
    {
     "data": {
      "text/plain": "'before'"
     },
     "metadata": {},
     "output_type": "display_data"
    },
    {
     "data": {
      "text/plain": "array([2.54110129, 1.03924221])"
     },
     "metadata": {},
     "output_type": "display_data"
    },
    {
     "data": {
      "text/plain": "Matrix([\n[0],\n[0]])",
      "text/latex": "$\\displaystyle \\left[\\begin{matrix}0\\\\0\\end{matrix}\\right]$"
     },
     "metadata": {},
     "output_type": "display_data"
    },
    {
     "data": {
      "text/plain": "('curY= ', -3.16931721622508)"
     },
     "metadata": {},
     "output_type": "display_data"
    },
    {
     "data": {
      "text/plain": "('curX= ',\n Matrix([\n [1.33439596252808],\n [  1.263035024897]]))"
     },
     "metadata": {},
     "output_type": "display_data"
    },
    {
     "data": {
      "text/plain": "'before'"
     },
     "metadata": {},
     "output_type": "display_data"
    },
    {
     "data": {
      "text/plain": "array([2.54110129, 1.03924221])"
     },
     "metadata": {},
     "output_type": "display_data"
    },
    {
     "data": {
      "text/plain": "Matrix([\n[0],\n[0]])",
      "text/latex": "$\\displaystyle \\left[\\begin{matrix}0\\\\0\\end{matrix}\\right]$"
     },
     "metadata": {},
     "output_type": "display_data"
    },
    {
     "data": {
      "text/plain": "('curY= ', -3.16931721622508)"
     },
     "metadata": {},
     "output_type": "display_data"
    },
    {
     "data": {
      "text/plain": "('curX= ',\n Matrix([\n [1.33439596252808],\n [  1.263035024897]]))"
     },
     "metadata": {},
     "output_type": "display_data"
    },
    {
     "data": {
      "text/plain": "Matrix([\n[1.33439596252808],\n[  1.263035024897]])",
      "text/latex": "$\\displaystyle \\left[\\begin{matrix}1.33439596252808\\\\1.263035024897\\end{matrix}\\right]$"
     },
     "metadata": {},
     "output_type": "display_data"
    }
   ],
   "source": [
    "for f in funcs:\n",
    "    display(\"-\"*100)\n",
    "    h = hessian(f)\n",
    "    grad = gradient(f)\n",
    "    display(h)\n",
    "    display(grad[0])\n",
    "    display(grad[1])\n",
    "\n",
    "    prevY = float('inf')\n",
    "    curX = Matrix([0, 1])\n",
    "\n",
    "    h.applyfunc(lambda k: k.evalf(subs=dict(zip(freeSyms, curX))))\n",
    "\n",
    "    curY = f.evalf(subs=dict(zip(freeSyms, curX)))\n",
    "    display(('curY= ', curY))\n",
    "\n",
    "    # while abs(curY - prevY) > eps:\n",
    "    for i in range(10):\n",
    "      prevY = curY\n",
    "      hMin1 = substitute(h, curX)\n",
    "      # display((\"h\", hMin1))\n",
    "      hMin1 = positive_definitive(np.array(hMin1, dtype=float))\n",
    "      hMin1 = Matrix(hMin1)\n",
    "      # display(\"correctHesse\", hMin1)\n",
    "      # display(\"hInv\", hMin1.inv())\n",
    "      # print(\"grad =\", substitute(grad, curX))\n",
    "      newX = curX - hMin1.inv() * substitute(grad, curX)\n",
    "      # print(\"newX =\", newX)\n",
    "      display(curX - newX)\n",
    "      curX = newX\n",
    "      curY = f.evalf(subs=dict(zip(freeSyms, curX)))\n",
    "      display(('curY= ', curY))\n",
    "      display(('curX= ', curX))\n",
    "\n",
    "    display(curX)\n",
    "\n"
   ],
   "metadata": {
    "collapsed": false,
    "pycharm": {
     "name": "#%%\n"
    }
   }
  }
 ],
 "metadata": {
  "kernelspec": {
   "display_name": "Python 3",
   "language": "python",
   "name": "python3"
  },
  "language_info": {
   "codemirror_mode": {
    "name": "ipython",
    "version": 3
   },
   "file_extension": ".py",
   "mimetype": "text/x-python",
   "name": "python",
   "nbconvert_exporter": "python",
   "pygments_lexer": "ipython3",
   "version": "3.9.2"
  }
 },
 "nbformat": 4,
 "nbformat_minor": 1
}